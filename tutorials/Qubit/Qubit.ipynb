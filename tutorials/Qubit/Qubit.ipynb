{
 "cells": [
  {
   "attachments": {},
   "cell_type": "markdown",
   "metadata": {},
   "source": [
    "# The Qubit\n",
    "\n",
    "This tutorial introduces you to one of the core concepts in quantum computing - the qubit, and its representation in mathematical notation and in Q# code.\n",
    "\n",
    "If you aren't familiar with [complex arithmetic](../ComplexArithmetic/ComplexArithmetic.ipynb) and [linear algebra](../LinearAlgebra/LinearAlgebra.ipynb), we recommend that you complete those tutorials first.\n",
    "\n",
    "This tutorial covers the following topics:\n",
    "* The concept of a qubit\n",
    "* Superposition\n",
    "* Vector representation of qubit states\n",
    "* Dirac notation\n",
    "* `Qubit` in Qiskit"
   ]
  },
  {
   "cell_type": "markdown",
   "metadata": {},
   "source": [
    "# The Concept of a Qubit\n",
    "\n",
    "The basic building block of a classical computer is the bit - a single memory cell that is either in state $0$ or in state $1$. Similarly, the basic building block of a quantum computer is the quantum bit, or **qubit**. Like the classical bit, a qubit can be in state $0$ or in state $1$. Unlike the classical bit, however, the qubit isn't limited to just those two states - it may also be in a combination, or **superposition** of those states.\n",
    "\n",
    "> A common misconception about quantum computing is that a qubit is always in one state or the other, we just don't know which one until we \"measure\" it. That is not the case. A qubit in a superposition is in a state between the states $0$ and $1$. When a qubit is measured, it is forced entirely into one state or the other - in other words, measuring it actually changes its state."
   ]
  },
  {
   "cell_type": "markdown",
   "metadata": {},
   "source": [
    "# Matrix Representation\n",
    "\n",
    "The state of a qubit is represented by a complex vector of size 2:\n",
    "\n",
    "$$\\begin{bmatrix} \\alpha \\\\ \\beta \\end{bmatrix}$$\n",
    "\n",
    "Here $\\alpha$ represents how \"close\" the qubit is to the state $0$, and $\\beta$ represents how \"close\" the qubit is to the state $1$. This vector is normalized: $|\\alpha|^2 + |\\beta|^2 = 1$.\n",
    "\n",
    "$\\alpha$ and $\\beta$ are known as **amplitudes** of states $0$ and $1$, respectively."
   ]
  },
  {
   "cell_type": "markdown",
   "metadata": {},
   "source": [
    "# Basis States\n",
    "\n",
    "A qubit in state $0$ would be represented by the following vector:\n",
    "\n",
    "$$\\begin{bmatrix} 1 \\\\ 0 \\end{bmatrix}$$\n",
    "\n",
    "Likewise, a qubit in state $1$ would be represented by this vector:\n",
    "\n",
    "$$\\begin{bmatrix} 0 \\\\ 1 \\end{bmatrix}$$\n",
    "\n",
    "Note that you can use scalar multiplication and vector addition to express any qubit state as a sum of these two vectors with certain weights (known as **linear combination**):\n",
    "\n",
    "$$\\begin{bmatrix} \\alpha \\\\ \\beta \\end{bmatrix} =\n",
    "\\begin{bmatrix} \\alpha \\\\ 0 \\end{bmatrix} + \\begin{bmatrix} 0 \\\\ \\beta \\end{bmatrix} =\n",
    "\\alpha \\cdot \\begin{bmatrix} 1 \\\\ 0 \\end{bmatrix} + \\beta \\cdot \\begin{bmatrix} 0 \\\\ 1 \\end{bmatrix}$$\n",
    "\n",
    "Because of this, these two states are known as **basis states**.\n",
    "\n",
    "These two vectors have two additional properties. First, as mentioned before, both are **normalized**:\n",
    "\n",
    "$$\\langle \\begin{bmatrix} 1 \\\\ 0 \\end{bmatrix} , \\begin{bmatrix} 1 \\\\ 0 \\end{bmatrix} \\rangle =\n",
    "\\langle \\begin{bmatrix} 0 \\\\ 1 \\end{bmatrix} , \\begin{bmatrix} 0 \\\\ 1 \\end{bmatrix} \\rangle = 1$$\n",
    "\n",
    "Second, they are **orthogonal** to each other:\n",
    "\n",
    "$$\\langle \\begin{bmatrix} 1 \\\\ 0 \\end{bmatrix} , \\begin{bmatrix} 0 \\\\ 1 \\end{bmatrix} \\rangle =\n",
    "\\langle \\begin{bmatrix} 0 \\\\ 1 \\end{bmatrix} , \\begin{bmatrix} 1 \\\\ 0 \\end{bmatrix} \\rangle = 0$$\n",
    "\n",
    "> As a reminder, $\\langle V , W \\rangle$ is the [inner product](../LinearAlgebra/LinearAlgebra.ipynb#Inner-Product) of $V$ and $W$.\n",
    "\n",
    "This means that these vectors form an **orthonormal basis**. The basis of $\\begin{bmatrix} 1 \\\\ 0 \\end{bmatrix}$ and $\\begin{bmatrix} 0 \\\\ 1 \\end{bmatrix}$ is called the **computational basis**, also known as the **canonical basis**.\n",
    "\n",
    "> There exist other orthonormal bases, for example, the **Hadamard basis**, formed by the vectors\n",
    ">\n",
    "> $$\\begin{bmatrix} \\frac{1}{\\sqrt{2}} \\\\ \\frac{1}{\\sqrt{2}} \\end{bmatrix} \\text{ and } \\begin{bmatrix} \\frac{1}{\\sqrt{2}} \\\\ -\\frac{1}{\\sqrt{2}} \\end{bmatrix}$$\n",
    ">\n",
    "> You can check that these vectors are normalized, and orthogonal to each other. Any qubit state can be expressed as a linear combination of these vectors:\n",
    ">\n",
    "> $$\\begin{bmatrix} \\alpha \\\\ \\beta \\end{bmatrix} =\n",
    "\\frac{\\alpha + \\beta}{\\sqrt{2}} \\begin{bmatrix} \\frac{1}{\\sqrt{2}} \\\\ \\frac{1}{\\sqrt{2}} \\end{bmatrix} +\n",
    "\\frac{\\alpha - \\beta}{\\sqrt{2}} \\begin{bmatrix} \\frac{1}{\\sqrt{2}} \\\\ -\\frac{1}{\\sqrt{2}} \\end{bmatrix}$$\n",
    ">\n",
    "> The Hadamard basis is widely used in quantum computing, for example, in the [BB84 quantum key distribution protocol](https://en.wikipedia.org/wiki/BB84)."
   ]
  },
  {
   "cell_type": "markdown",
   "metadata": {},
   "source": [
    "# Dirac Notation\n",
    "\n",
    "Writing out each vector when doing quantum calculations takes up a lot of space, and this will get even worse once we introduce quantum gates and multi-qubit systems. **Dirac notation** is a shorthand notation that helps solve this issue. In Dirac notation, a vector is denoted by a symbol called a **ket**. For example, a qubit in state $0$ is represented by the ket $|0\\rangle$, and a qubit in state $1$ is represented by the ket $|1\\rangle$:\n",
    "\n",
    "<table>\n",
    "    <col width=150>\n",
    "    <col width=150>\n",
    "    <tr>\n",
    "        <td style=\"text-align:center; border:1px solid\">$|0\\rangle = \\begin{bmatrix} 1 \\\\ 0 \\end{bmatrix}$</td>\n",
    "        <td style=\"text-align:center; border:1px solid\">$|1\\rangle = \\begin{bmatrix} 0 \\\\ 1 \\end{bmatrix}$</td>\n",
    "    </tr>\n",
    "</table>\n",
    "\n",
    "These two kets represent basis states, so they can be used to represent any other state:\n",
    "\n",
    "$$\\begin{bmatrix} \\alpha \\\\ \\beta \\end{bmatrix} = \\alpha|0\\rangle + \\beta|1\\rangle$$\n",
    "\n",
    "Any symbol other than $0$ or $1$ within the ket can be used to represent arbitrary vectors, similar to how variables are used in algebra: \n",
    "\n",
    "$$|\\psi\\rangle = \\alpha|0\\rangle + \\beta|1\\rangle$$\n",
    "\n",
    "Several ket symbols have a generally accepted use, such as:\n",
    "\n",
    "<table>\n",
    "    <col width=180>\n",
    "    <col width=180>\n",
    "    <tr>\n",
    "        <td style=\"text-align:center; border:1px solid\">$|+\\rangle = \\frac{1}{\\sqrt{2}}\\big(|0\\rangle + |1\\rangle\\big)$</td>\n",
    "        <td style=\"text-align:center; border:1px solid\">$|-\\rangle = \\frac{1}{\\sqrt{2}}\\big(|0\\rangle - |1\\rangle\\big)$</td>\n",
    "    </tr>\n",
    "    <tr>\n",
    "        <td style=\"text-align:center; border:1px solid\">$|i\\rangle = \\frac{1}{\\sqrt{2}}\\big(|0\\rangle + i|1\\rangle\\big)$</td>\n",
    "        <td style=\"text-align:center; border:1px solid\">$|-i\\rangle = \\frac{1}{\\sqrt{2}}\\big(|0\\rangle - i|1\\rangle\\big)$</td>\n",
    "    </tr>\n",
    "</table>\n",
    "\n",
    "We will learn more about Dirac notation in the next tutorials, as we introduce quantum gates and multi-qubit systems."
   ]
  },
  {
   "attachments": {},
   "cell_type": "markdown",
   "metadata": {},
   "source": [
    "Qiskit\n",
    "===\n",
    "\n",
    "## Qubit in Qiskit\n",
    "\n",
    "In Qiskit, a qubit is represented by the `QuantumRegister` class.\n",
    "On a physical quantum computer, it's impossible to directly access the state of a qubit, whether to read its exact state, or to set it to a desired state, and this data type reflects that. Instead, you can change the state of a qubit using [quantum gates](../SingleQubitGates/SingleQubitGates.ipynb), and extract information about the state of the system using measurements.\n",
    "\n",
    "That being said, when you run qiskit code on a quantum simulator instead of a physical quantum computer, you can use diagnostic functions that allow you to peek at the state of the quantum system. This is very useful both for learning and for debugging small qiskit programs.\n",
    "\n",
    "> Implementation of a Qubit in qiskit\n",
    "\n",
    "In qiskit, a qubit is represented by the `QuantumRegister` class. It is initialized with a single integer parameter, which specifies the number of qubits in the register. For example, the following code creates a quantum register with 1 qubit:\n",
    "\n",
    "```python\n",
    "from qiskit import QuantumRegister\n",
    "q = QuantumRegister(1)\n",
    "```\n",
    "\n",
    "Freshly allocated qubits start out in state $|0\\rangle$"
   ]
  },
  {
   "attachments": {},
   "cell_type": "markdown",
   "metadata": {},
   "source": [
    "### <span style=\"color:blue\">Demo: Examining Qubit States in Qiskit</span>\n",
    "\n",
    "> TODO: Add a demo here"
   ]
  },
  {
   "cell_type": "markdown",
   "metadata": {},
   "source": [
    "# Relative and Global Phase\n",
    "\n",
    "You may recall that a complex number has a parameter called its phase. If a complex number $x$ is written in [polar form](../ComplexArithmetic/ComplexArithmetic.ipynb#Polar-coordinates) $x = re^{i\\theta}$, its phase is $\\theta$.\n",
    "\n",
    "The phase of a basis state is the complex phase of the amplitude of that state. For example, a system in state $\\frac{1 + i}{2}|0\\rangle + \\frac{1 - i}{2}|1\\rangle$, the phase of $|0\\rangle$ is $\\frac{\\pi}{4}$, and the phase of $|1\\rangle$ is $-\\frac{\\pi}{4}$. The difference between these two phases is known as **relative phase**.\n",
    "\n",
    "Multiplying the state of the entire system by $e^{i\\theta}$ doesn't affect the relative phase: $\\alpha|0\\rangle + \\beta|1\\rangle$ has the same relative phase as $e^{i\\theta}\\big(\\alpha|0\\rangle + \\beta|1\\rangle\\big)$. In the second expression, $\\theta$ is known as the system's **global phase**.\n",
    "\n",
    "The state of a qubit (or, more generally, the state of a quantum system) is defined by its relative phase - global phase arises as a consequence of using linear algebra to represent qubits, and has no physical meaning. That is, applying a phase to the entire state of a system (multiplying the entire vector by $e^{i\\theta}$ for any real $\\theta$) doesn't actually affect the state of the system. Because of this, global phase is sometimes known as **unobservable phase** or **hidden phase**."
   ]
  },
  {
   "cell_type": "markdown",
   "metadata": {},
   "source": [
    "# Conclusion\n",
    "\n",
    "This should be enough for you to gain a basic understanding of qubits and qubit states. Next, you will learn how to manipulate those states in the [single-qubit gates tutorial](../SingleQubitGates/SingleQubitGates.ipynb)."
   ]
  }
 ],
 "metadata": {
  "kernelspec": {
   "display_name": "Python 3",
   "language": "python",
   "name": "python3"
  },
  "language_info": {
   "file_extension": ".qs",
   "mimetype": "text/x-qsharp",
   "name": "python",
   "version": "3.10.6 (main, Nov 14 2022, 16:10:14) [GCC 11.3.0]"
  },
  "vscode": {
   "interpreter": {
    "hash": "916dbcbb3f70747c44a77c7bcd40155683ae19c65e1c03b4aa3499c5328201f1"
   }
  }
 },
 "nbformat": 4,
 "nbformat_minor": 2
}
